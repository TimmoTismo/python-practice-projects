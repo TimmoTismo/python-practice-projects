{
 "cells": [
  {
   "cell_type": "code",
   "execution_count": 1,
   "metadata": {},
   "outputs": [],
   "source": [
    "# Import and initialise IGDB library\n",
    "\n",
    "from igdb import IGDB_Lib\n",
    "\n",
    "ig = IGDB_Lib()\n"
   ]
  },
  {
   "cell_type": "code",
   "execution_count": 2,
   "metadata": {},
   "outputs": [
    {
     "name": "stdout",
     "output_type": "stream",
     "text": [
      "0.928776741027832ms\n"
     ]
    }
   ],
   "source": [
    "from time import time\n",
    "\n",
    "start = time()\n",
    "token = ig.get_access_token_from_twitch()\n",
    "end = time()\n",
    "\n",
    "print(f'{end-start}ms')\n"
   ]
  },
  {
   "cell_type": "code",
   "execution_count": 9,
   "metadata": {},
   "outputs": [
    {
     "name": "stdout",
     "output_type": "stream",
     "text": [
      " 0.6490187644958496 ms\n"
     ]
    }
   ],
   "source": [
    "start = time()\n",
    "\n",
    "game_name = 'persona'\n",
    "data = f'fields name, involved_companies; search \"{game_name}\"; limit 5; where parent_game = null & version_parent = null;'\n",
    "\n",
    "games = ig.igdb_request(endpoint='/games', data=data)\n",
    "\n",
    "end = time()\n",
    "\n",
    "print(f'{end-start : } ms')"
   ]
  },
  {
   "cell_type": "code",
   "execution_count": 32,
   "metadata": {},
   "outputs": [
    {
     "name": "stdout",
     "output_type": "stream",
     "text": [
      "[{'id': 9577, 'involved_companies': [{'id': 22955, 'company': {'id': 818, 'name': 'Atlus'}}, {'id': 22956, 'company': {'id': 2488, 'name': 'Atlus USA'}}, {'id': 22957, 'company': {'id': 630, 'name': 'Koei'}}], 'name': 'Persona 3'}, {'id': 5650, 'involved_companies': [{'id': 24858, 'company': {'id': 1218, 'name': 'Arc System Works'}}, {'id': 24859, 'company': {'id': 818, 'name': 'Atlus'}}, {'id': 24860, 'company': {'id': 2437, 'name': 'Zen United'}}], 'name': 'Persona 4 Arena'}, {'id': 117731, 'involved_companies': [{'id': 78045, 'company': {'id': 1394, 'name': 'Omega Force'}}, {'id': 78046, 'company': {'id': 9969, 'name': 'P Studio'}}, {'id': 119896, 'company': {'id': 818, 'name': 'Atlus'}}, {'id': 239277, 'company': {'id': 112, 'name': 'Sega'}}, {'id': 239278, 'company': {'id': 15878, 'name': 'Sega Games'}}], 'name': 'Persona 5 Strikers'}, {'id': 231247, 'involved_companies': [{'id': 200968, 'company': {'id': 818, 'name': 'Atlus'}}], 'name': 'Persona 3 Portable & Persona 4 Golden Bundle'}, {'id': 9927, 'involved_companies': [{'id': 23554, 'company': {'id': 818, 'name': 'Atlus'}}, {'id': 35623, 'company': {'id': 2488, 'name': 'Atlus USA'}}, {'id': 35624, 'company': {'id': 9969, 'name': 'P Studio'}}, {'id': 37286, 'company': {'id': 423, 'name': 'Deep Silver'}}], 'name': 'Persona 5'}, {'id': 9600, 'involved_companies': [{'id': 23138, 'company': {'id': 818, 'name': 'Atlus'}}, {'id': 23139, 'company': {'id': 818, 'name': 'Atlus'}}, {'id': 23141, 'company': {'id': 2262, 'name': 'NIS America'}}, {'id': 23142, 'company': {'id': 798, 'name': 'Ubisoft Australia'}}, {'id': 94342, 'company': {'id': 26, 'name': 'Square Enix'}}], 'name': 'Persona 4'}, {'id': 11453, 'involved_companies': [{'id': 217501, 'company': {'id': 818, 'name': 'Atlus'}}], 'name': 'Persona 2: Innocent Sin'}, {'id': 54217, 'involved_companies': [{'id': 52673, 'company': {'id': 9969, 'name': 'P Studio'}}, {'id': 52674, 'company': {'id': 818, 'name': 'Atlus'}}, {'id': 65393, 'company': {'id': 2488, 'name': 'Atlus USA'}}], 'name': 'Persona 3: Dancing in Moonlight'}, {'id': 106988, 'involved_companies': [{'id': 68568, 'company': {'id': 818, 'name': 'Atlus'}}, {'id': 68569, 'company': {'id': 2488, 'name': 'Atlus USA'}}], 'name': 'Persona Dancing: Endless Night Collection'}, {'id': 252729, 'involved_companies': [{'id': 220520, 'company': {'id': 818, 'name': 'Atlus'}}, {'id': 220521, 'company': {'id': 112, 'name': 'Sega'}}, {'id': 220522, 'company': {'id': 229, 'name': 'Sega of America'}}], 'name': 'Persona 5 Tactica'}]\n"
     ]
    }
   ],
   "source": [
    "game_name = 'persona'\n",
    "data = f'fields name, involved_companies.company.name; search \"{game_name}\"; limit 10; where parent_game = null & version_parent = null;'\n",
    "\n",
    "games = ig.igdb_request(endpoint='/games', data=data)\n",
    "\n",
    "print(games)\n",
    "#ig.print_results(totk, 'name')\n",
    "\n"
   ]
  },
  {
   "cell_type": "code",
   "execution_count": 27,
   "metadata": {},
   "outputs": [
    {
     "name": "stdout",
     "output_type": "stream",
     "text": [
      "200272\n",
      "[]\n",
      "200273\n",
      "[]\n",
      "220085\n",
      "[]\n"
     ]
    }
   ],
   "source": [
    "for i in games.get('involved_companies'):\n",
    "    print(i)\n",
    "    print(ig.get_company_name(str(i)))\n"
   ]
  },
  {
   "cell_type": "code",
   "execution_count": 30,
   "metadata": {},
   "outputs": [
    {
     "name": "stdout",
     "output_type": "stream",
     "text": [
      "[{'id': 818, 'name': 'Atlus'}]\n"
     ]
    }
   ],
   "source": [
    "print(ig.get_company_name(818))"
   ]
  },
  {
   "cell_type": "code",
   "execution_count": null,
   "metadata": {},
   "outputs": [],
   "source": []
  },
  {
   "cell_type": "markdown",
   "metadata": {},
   "source": []
  },
  {
   "cell_type": "code",
   "execution_count": 11,
   "metadata": {},
   "outputs": [
    {
     "name": "stdout",
     "output_type": "stream",
     "text": [
      "[]\n"
     ]
    }
   ],
   "source": [
    "#Search for games developed by Atlus\n",
    "atlus = ig.igdb_request(endpoint='/companies', data='fields name; search \"atlus\";')\n",
    "print(atlus)\n",
    "\n",
    "## For some reason, Atlus does not exist in their database?"
   ]
  },
  {
   "cell_type": "code",
   "execution_count": null,
   "metadata": {},
   "outputs": [],
   "source": [
    "print(igdb_request(endpoint='/search', access_token=token, data='fields name; search \"nintendo\"; limit 10;'))"
   ]
  }
 ],
 "metadata": {
  "kernelspec": {
   "display_name": ".venv",
   "language": "python",
   "name": "python3"
  },
  "language_info": {
   "codemirror_mode": {
    "name": "ipython",
    "version": 3
   },
   "file_extension": ".py",
   "mimetype": "text/x-python",
   "name": "python",
   "nbconvert_exporter": "python",
   "pygments_lexer": "ipython3",
   "version": "3.11.4"
  }
 },
 "nbformat": 4,
 "nbformat_minor": 2
}
