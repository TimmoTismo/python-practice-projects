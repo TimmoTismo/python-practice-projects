{
 "cells": [
  {
   "cell_type": "code",
   "execution_count": 13,
   "metadata": {},
   "outputs": [],
   "source": [
    "import requests\n",
    "\n",
    "CLIENT_ID = 'ewqwd3rsk9qj09ql7p2t80k5rhk8oi'\n",
    "CLIENT_SECRET = 'uygg57zqnuncv3ae06plv704rtmjh9'\n",
    "\n",
    "BASE_URL = 'https://api.igdb.com/v4'"
   ]
  },
  {
   "cell_type": "code",
   "execution_count": 14,
   "metadata": {},
   "outputs": [],
   "source": [
    "def get_access_token_from_twitch() -> str:\n",
    "    twitch_url = 'https://id.twitch.tv/oauth2/token'\n",
    "    payload = { \n",
    "        'client_id': CLIENT_ID,\n",
    "        'client_secret': CLIENT_SECRET,\n",
    "        'grant_type': 'client_credentials'\n",
    "    }\n",
    "\n",
    "    response = requests.post(url=twitch_url, data=payload)\n",
    "\n",
    "    if response.status_code != 200:\n",
    "        print(\"Access Token Error:\", response.status_code)\n",
    "        return None\n",
    "    \n",
    "\n",
    "    data = response.json()\n",
    "    token = data.get('access_token')\n",
    "    return token "
   ]
  },
  {
   "cell_type": "code",
   "execution_count": 15,
   "metadata": {},
   "outputs": [],
   "source": [
    "# Main wrapper function for all requests\n",
    "def igdb_request(endpoint, data, access_token) -> requests.Response:\n",
    "    headers = {\n",
    "        'Client-ID': CLIENT_ID,\n",
    "        'Authorization': f'Bearer {access_token}',\n",
    "    }\n",
    "    response = requests.post(f'{BASE_URL}{endpoint}', headers=headers, data=data)\n",
    "\n",
    "    # TODO: Look into throwing errors properly instead of printing error and return none\n",
    "    if response.status_code != 200:\n",
    "        print(\"API Request Error:\", response.status_code)\n",
    "        return None\n",
    "    \n",
    "    return response.json()"
   ]
  },
  {
   "cell_type": "code",
   "execution_count": 16,
   "metadata": {},
   "outputs": [
    {
     "name": "stdout",
     "output_type": "stream",
     "text": [
      "1.4751763343811035ms\n"
     ]
    }
   ],
   "source": [
    "from time import time\n",
    "\n",
    "start = time()\n",
    "token = get_access_token_from_twitch()\n",
    "end = time()\n",
    "\n",
    "print(f'{end-start}ms')\n"
   ]
  },
  {
   "cell_type": "code",
   "execution_count": 17,
   "metadata": {},
   "outputs": [
    {
     "name": "stdout",
     "output_type": "stream",
     "text": [
      " 1.2846009731292725 ms\n"
     ]
    }
   ],
   "source": [
    "start = time()\n",
    "\n",
    "game_name = 'persona'\n",
    "data = f'fields name, involved_companies; search \"{game_name}\"; limit 5; where parent_game = null & version_parent = null;'\n",
    "\n",
    "games = igdb_request(endpoint='/games', data=data, access_token=token)\n",
    "\n",
    "end = time()\n",
    "\n",
    "print(f'{end-start : } ms')"
   ]
  },
  {
   "cell_type": "code",
   "execution_count": 20,
   "metadata": {},
   "outputs": [
    {
     "name": "stdout",
     "output_type": "stream",
     "text": [
      "[]\n"
     ]
    }
   ],
   "source": [
    "#Search for games developed by Atlus\n",
    "atlus = igdb_request(endpoint='/companies', access_token=token, data='fields name; search \"atlus\";')\n",
    "print(atlus)"
   ]
  },
  {
   "cell_type": "code",
   "execution_count": 26,
   "metadata": {},
   "outputs": [
    {
     "name": "stdout",
     "output_type": "stream",
     "text": [
      "[{'id': 20391507, 'name': 'Nintendo DS Browser'}, {'id': 20180550, 'name': '4 in 1 Nintendo'}, {'id': 20164389, 'name': 'Hiiro no Kakera Tamayori-hime Kitan Omoi Iro no Kioku for Nintendo Switch'}, {'id': 19461244, 'name': 'Dungeons 3 Nintendo Switch Complete Collection'}, {'id': 19461181, 'name': 'Railway Empire Nintendo Switch Starter Bundle'}, {'id': 19461152, 'name': 'Tropico 6 Nintendo Switch Starter Bundle'}, {'id': 18521337, 'name': 'Nintendo Adventure Books 3 Monster Mix-Up'}, {'id': 17674108, 'name': 'Drug Prince & Narcotic Girl for Nintendo Switch'}, {'id': 17592207, 'name': 'Farming Simulator Farm Tractor Experience Logic Games - Nintendo Switch Edition'}, {'id': 17555251, 'name': 'Jinsei Game for Nintendo Switch'}]\n"
     ]
    }
   ],
   "source": [
    "print(igdb_request(endpoint='/search', access_token=token, data='fields name; search \"nintendo\"; limit 10;'))"
   ]
  }
 ],
 "metadata": {
  "kernelspec": {
   "display_name": ".venv",
   "language": "python",
   "name": "python3"
  },
  "language_info": {
   "codemirror_mode": {
    "name": "ipython",
    "version": 3
   },
   "file_extension": ".py",
   "mimetype": "text/x-python",
   "name": "python",
   "nbconvert_exporter": "python",
   "pygments_lexer": "ipython3",
   "version": "3.12.2"
  }
 },
 "nbformat": 4,
 "nbformat_minor": 2
}
